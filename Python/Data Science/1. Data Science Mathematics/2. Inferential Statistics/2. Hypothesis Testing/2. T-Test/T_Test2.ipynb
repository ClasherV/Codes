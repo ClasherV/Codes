{
 "cells": [
  {
   "cell_type": "code",
   "execution_count": 1,
   "id": "b219feaa",
   "metadata": {},
   "outputs": [],
   "source": [
    "import numpy as np\n",
    "import scipy.stats as st"
   ]
  },
  {
   "cell_type": "code",
   "execution_count": 2,
   "id": "32aa7dbb",
   "metadata": {},
   "outputs": [],
   "source": [
    "xa=80\n",
    "xb=75\n",
    "sa=5\n",
    "sb=6\n",
    "na=20\n",
    "nb=20\n",
    "a=0.05\n",
    "df=na+nb-1"
   ]
  },
  {
   "cell_type": "code",
   "execution_count": 5,
   "id": "5bc490cb",
   "metadata": {},
   "outputs": [
    {
     "data": {
      "text/plain": [
       "np.float64(-2.022690920036761)"
      ]
     },
     "execution_count": 5,
     "metadata": {},
     "output_type": "execute_result"
    }
   ],
   "source": [
    "t_left=st.t.ppf(a/2,df)\n",
    "t_left"
   ]
  },
  {
   "cell_type": "code",
   "execution_count": 6,
   "id": "4c63f0b6",
   "metadata": {},
   "outputs": [
    {
     "data": {
      "text/plain": [
       "np.float64(2.0226909200367604)"
      ]
     },
     "execution_count": 6,
     "metadata": {},
     "output_type": "execute_result"
    }
   ],
   "source": [
    "t_right=st.t.ppf(1-a/2,df)\n",
    "t_right"
   ]
  },
  {
   "cell_type": "code",
   "execution_count": 7,
   "id": "3e3d4287",
   "metadata": {},
   "outputs": [
    {
     "data": {
      "text/plain": [
       "np.float64(2.862991671569341)"
      ]
     },
     "execution_count": 7,
     "metadata": {},
     "output_type": "execute_result"
    }
   ],
   "source": [
    "t_cal=(xa-xb)/(np.sqrt(np.pow(sa,2)/na+np.pow(sb,2)/nb))\n",
    "t_cal"
   ]
  },
  {
   "cell_type": "code",
   "execution_count": 8,
   "id": "055ff5f0",
   "metadata": {},
   "outputs": [
    {
     "name": "stdout",
     "output_type": "stream",
     "text": [
      "Ha is Right\n"
     ]
    }
   ],
   "source": [
    "if t_cal>t_right or t_cal<t_left:\n",
    "    print(\"Ha is Right\")\n",
    "else:\n",
    "    print(\"H0 is Right\")"
   ]
  },
  {
   "cell_type": "code",
   "execution_count": null,
   "id": "e6d84229",
   "metadata": {},
   "outputs": [],
   "source": []
  }
 ],
 "metadata": {
  "kernelspec": {
   "display_name": "Python 3",
   "language": "python",
   "name": "python3"
  },
  "language_info": {
   "codemirror_mode": {
    "name": "ipython",
    "version": 3
   },
   "file_extension": ".py",
   "mimetype": "text/x-python",
   "name": "python",
   "nbconvert_exporter": "python",
   "pygments_lexer": "ipython3",
   "version": "3.13.3"
  }
 },
 "nbformat": 4,
 "nbformat_minor": 5
}
