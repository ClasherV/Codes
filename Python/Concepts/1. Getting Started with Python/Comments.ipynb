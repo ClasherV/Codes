{
 "cells": [
  {
   "cell_type": "markdown",
   "id": "8db79468",
   "metadata": {},
   "source": [
    "<h1>Single Line Comment Using</h1>"
   ]
  },
  {
   "cell_type": "code",
   "execution_count": 1,
   "id": "e4ea86b8",
   "metadata": {},
   "outputs": [],
   "source": [
    "#Comment"
   ]
  },
  {
   "cell_type": "markdown",
   "metadata": {},
   "source": [
    "<h1>Multi-Line Comment using #</h1>"
   ]
  },
  {
   "cell_type": "code",
   "execution_count": 4,
   "id": "8cccd5ef",
   "metadata": {},
   "outputs": [],
   "source": [
    "#Multi\n",
    "#Line\n",
    "#Comment"
   ]
  },
  {
   "cell_type": "markdown",
   "id": "e941940a",
   "metadata": {},
   "source": [
    "<h1>Multi-Line Comment using Triple Single Quotes</h1>"
   ]
  },
  {
   "cell_type": "code",
   "execution_count": 5,
   "id": "b2f950f8",
   "metadata": {},
   "outputs": [
    {
     "data": {
      "text/plain": [
       "'\\nMulti\\nLine\\nString\\n'"
      ]
     },
     "execution_count": 5,
     "metadata": {},
     "output_type": "execute_result"
    }
   ],
   "source": [
    "'''\n",
    "Multi\n",
    "Line\n",
    "String\n",
    "'''"
   ]
  },
  {
   "cell_type": "markdown",
   "id": "47b721be",
   "metadata": {},
   "source": [
    "<h1>Multi-Line Comment using Triple Double Quotes</h1>"
   ]
  },
  {
   "cell_type": "code",
   "execution_count": 6,
   "id": "a63f4d8e",
   "metadata": {},
   "outputs": [
    {
     "data": {
      "text/plain": [
       "'\\nMulti\\nLine\\nString\\n'"
      ]
     },
     "execution_count": 6,
     "metadata": {},
     "output_type": "execute_result"
    }
   ],
   "source": [
    "\"\"\"\n",
    "Multi\n",
    "Line\n",
    "String\n",
    "\"\"\""
   ]
  },
  {
   "cell_type": "code",
   "execution_count": null,
   "id": "dce0c5d7",
   "metadata": {},
   "outputs": [],
   "source": []
  }
 ],
 "metadata": {
  "kernelspec": {
   "display_name": "Python 3",
   "language": "python",
   "name": "python3"
  },
  "language_info": {
   "codemirror_mode": {
    "name": "ipython",
    "version": 3
   },
   "file_extension": ".py",
   "mimetype": "text/x-python",
   "name": "python",
   "nbconvert_exporter": "python",
   "pygments_lexer": "ipython3",
   "version": "3.13.5"
  }
 },
 "nbformat": 4,
 "nbformat_minor": 5
}
