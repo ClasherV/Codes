{
 "cells": [
  {
   "cell_type": "markdown",
   "id": "7dae3d84",
   "metadata": {},
   "source": [
    "<h1>Q.1 Write instructions to get the following result:</h1>\n",
    "\n",
    "<pre>\n",
    "Math is Fun so don't be resistant\n",
    "Just learn the rules, the rules are consistent\n",
    "And most important, you must be persistent!\n",
    "</pre>\n",
    "<pre>\n",
    "Adding fractions, get common denominators.\n",
    "Multiply by missing factors to get the denominators.\n",
    "Add numerators only, NOT denominators.\n",
    "</pre>"
   ]
  },
  {
   "cell_type": "code",
   "execution_count": 1,
   "id": "cbf5c593",
   "metadata": {},
   "outputs": [
    {
     "name": "stdout",
     "output_type": "stream",
     "text": [
      "Math is Fun so don't be resistant\n",
      "Just learn the rules, the rules are consistent\n",
      "And most important, you must be persistent!\n",
      "\n",
      "Adding fractions, get common denominators.\n",
      "Multiply by missing factors to get the denominators.\n",
      "Add numerators only, NOT denominators.\n"
     ]
    }
   ],
   "source": [
    "print(\"Math is Fun so don't be resistant\")\n",
    "print(\"Just learn the rules, the rules are consistent\")\n",
    "print(\"And most important, you must be persistent!\")\n",
    "print()\n",
    "print(\"Adding fractions, get common denominators.\")\n",
    "print(\"Multiply by missing factors to get the denominators.\")\n",
    "print(\"Add numerators only, NOT denominators.\")"
   ]
  },
  {
   "cell_type": "markdown",
   "id": "501b589f",
   "metadata": {},
   "source": [
    "<h1>Q2. Print the above text using only one print() function</h1>"
   ]
  },
  {
   "cell_type": "code",
   "execution_count": 2,
   "id": "20991899",
   "metadata": {},
   "outputs": [
    {
     "name": "stdout",
     "output_type": "stream",
     "text": [
      "Math is Fun so don't be resistant\n",
      "Just learn the rules, the rules are consistent\n",
      "And most important, you must be persistent!\n",
      "\n",
      "Adding fractions, get common denominators.\n",
      "Multiply by missing factors to get the denominators.\n",
      "Add numerators only, NOT denominators.\n"
     ]
    }
   ],
   "source": [
    "print(\"Math is Fun so don't be resistant\\n\\\n",
    "Just learn the rules, the rules are consistent\\n\\\n",
    "And most important, you must be persistent!\\n\\\n",
    "\\nAdding fractions, get common denominators.\\n\\\n",
    "Multiply by missing factors to get the denominators.\\n\\\n",
    "Add numerators only, NOT denominators.\")"
   ]
  },
  {
   "cell_type": "markdown",
   "id": "0d469298",
   "metadata": {},
   "source": [
    "<h1>Q.3 Print the sum of 2 numbers with appropriate sentence</h1>"
   ]
  },
  {
   "cell_type": "code",
   "execution_count": 3,
   "id": "691ded61",
   "metadata": {},
   "outputs": [
    {
     "name": "stdout",
     "output_type": "stream",
     "text": [
      "Sum of 2+3 is: 5\n"
     ]
    }
   ],
   "source": [
    "print(\"Sum of 2+3 is:\",2+3)"
   ]
  },
  {
   "cell_type": "markdown",
   "id": "c3a5e41f",
   "metadata": {},
   "source": [
    "<h1>Q.4 What will be the output of the following code:</h1>\n",
    "\n",
    "<pre>\n",
    "#This is a sample program\n",
    "#to output simple statements\n",
    "#print (\"Such as\")\n",
    "print(\"Take every chance.\")\n",
    "print(\"Drop every fear.\")\n",
    "<pre>"
   ]
  },
  {
   "cell_type": "code",
   "execution_count": 4,
   "id": "d017a41b",
   "metadata": {},
   "outputs": [
    {
     "name": "stdout",
     "output_type": "stream",
     "text": [
      "Take every chance.\n",
      "Drop every fear.\n"
     ]
    }
   ],
   "source": [
    "#This is a sample program\n",
    "#to output simple statements\n",
    "#print (\"Such as\")\n",
    "print(\"Take every chance.\")\n",
    "print(\"Drop every fear.\")"
   ]
  },
  {
   "cell_type": "code",
   "execution_count": null,
   "id": "3738c85d",
   "metadata": {},
   "outputs": [],
   "source": []
  }
 ],
 "metadata": {
  "kernelspec": {
   "display_name": "Python 3",
   "language": "python",
   "name": "python3"
  },
  "language_info": {
   "codemirror_mode": {
    "name": "ipython",
    "version": 3
   },
   "file_extension": ".py",
   "mimetype": "text/x-python",
   "name": "python",
   "nbconvert_exporter": "python",
   "pygments_lexer": "ipython3",
   "version": "3.13.5"
  }
 },
 "nbformat": 4,
 "nbformat_minor": 5
}
